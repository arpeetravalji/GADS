{
 "cells": [
  {
   "cell_type": "markdown",
   "metadata": {},
   "source": [
    "<img src=\"http://imgur.com/1ZcRyrc.png\" style=\"float: left; margin: 20px; height: 55px\">\n",
    "\n",
    "# Project 1: Python Coding Exercises\n",
    "\n",
    "_Authors: Joseph Nelson (DC) _\n",
    "\n",
    "---"
   ]
  },
  {
   "cell_type": "markdown",
   "metadata": {},
   "source": [
    "The following code challenges are drawn from common exercises used in technical interviews.\n",
    "\n",
    "Please note that there may be several ways to approach each challenge. If you get stuck, try mapping out your approach in pseudocode first. Finally, while solutions to problems like these may be found online, remember that if you copy/paste code that you can't explain, you'll be missing out on the point of the project. The only way to truly learn a new skill is through practice, trial, and error - we can only help you improve by understanding where you are having trouble."
   ]
  },
  {
   "cell_type": "markdown",
   "metadata": {},
   "source": [
    "### Challenge 1: Largest Palindrome\n",
    "A palindromic number reads the same both ways. For example, 1234321 is a palindrome. The largest palindrome made from the product of two two-digit numbers is 9009 = 91 × 99. Find the largest palindrome made from the product of two three-digit numbers. Afterward, write a brief explanation walking through your code's logic in markdown."
   ]
  },
  {
   "cell_type": "code",
   "execution_count": null,
   "metadata": {
    "collapsed": true,
    "jupyter": {
     "outputs_hidden": true
    }
   },
   "outputs": [],
   "source": [
    "result = 0\n",
    "\n",
    "# Iterate through first set of numbers\n",
    "for i in range(100, 1000):\n",
    "    \n",
    "    # Iterate through second set of numbers\n",
    "    for n in range(100, 1000):\n",
    "        \n",
    "        # Multiply\n",
    "        num = i * n\n",
    "        # Check forward string\n",
    "        str_num = str(num)\n",
    "        # Check backward string\n",
    "        rev_str = str_num[::-1]\n",
    "        # Store biggest\n",
    "        if str_num == rev_str:\n",
    "            if num > result:\n",
    "                result = num\n",
    "\n",
    "print(result)"
   ]
  },
  {
   "cell_type": "markdown",
   "metadata": {},
   "source": [
    "\n",
    "### Challenge 2: Summation of Primes\n",
    "The sum of the primes below 10 is 2 + 3 + 5 + 7 = 17. Find the sum of all the primes below 2,000. Afterward, write a brief explanation walking through your code's logic in markdown."
   ]
  },
  {
   "cell_type": "code",
   "execution_count": null,
   "metadata": {
    "collapsed": true,
    "jupyter": {
     "outputs_hidden": true
    }
   },
   "outputs": [],
   "source": [
    "primes = [] # Set a list to catch prime values\n",
    "\n",
    "for i in range(2, 2000): \n",
    "    # All statement evaluates to true if all of the iterables satisfy the criteria\n",
    "    # If i divided by the existing primes(x) never has a remainder of 0\n",
    "    if all(i % x != 0 for x in primes):\n",
    "        # Append this number to the primes list\n",
    "        primes.append(i)\n",
    "\n",
    "sum(primes)"
   ]
  },
  {
   "cell_type": "markdown",
   "metadata": {},
   "source": [
    "### Challenge 3: Multiples of 3 and 5\n",
    "If we list all of the natural numbers below 10 that are multiples of 3 or 5, we get 3, 5, 6, and 9. The sum of these multiples is 23. Find the sum of all the multiples of 3 and 5 below 1,000. Afterward, write a brief explanation walking through your code's logic in markdown."
   ]
  },
  {
   "cell_type": "code",
   "execution_count": null,
   "metadata": {
    "collapsed": true,
    "jupyter": {
     "outputs_hidden": true
    }
   },
   "outputs": [],
   "source": [
    "# Using the range function we can create ranges of allowed multples of 5 as well as 3.\n",
    "# The union of the ranges is every element in either range\n",
    "# Once they are concatenated together, we set them to remove all duplicates.\n",
    "# Sum the set range.\n",
    "\n",
    "all_multiples = set(range(0,1000,5)).union(set(range(0,1000,3)))\n",
    "\n",
    "sum(all_multiples)"
   ]
  },
  {
   "cell_type": "markdown",
   "metadata": {},
   "source": [
    "### Challenge 4: String Compressor\n",
    "Implement a method to perform basic string compression using the counts of repeated characters. (This is called run-length encoding.) For example, the string \"aabcccccaaa\" would become a2b1c5a3. If the “compressed” string would not become smaller than the original string, your method should return the original string. You can assume the string has only uppercase and lowercase letters (a–z). Specify whether your solution is case sensitive or case insensitive and what you would need to change to make it the other. Afterward, write a brief explanation walking through your code's logic in markdown."
   ]
  },
  {
   "cell_type": "code",
   "execution_count": null,
   "metadata": {
    "collapsed": true,
    "jupyter": {
     "outputs_hidden": true
    }
   },
   "outputs": [],
   "source": [
    "# Create function\n",
    "def string_compressor(word):\n",
    "    # initalize empty items\n",
    "    compressed_word = \"\"\n",
    "    count_letter = \"\"\n",
    "    count = 0\n",
    "    \n",
    "    # Check if each letter matches current count_letter — the one we're checking\n",
    "    for letter in word:\n",
    "        if letter == count_letter:\n",
    "            count += 1\n",
    "        else:\n",
    "            # Count redundancies of a single letters\n",
    "            if count > 0:\n",
    "                compressed_word += count_letter + str(count)\n",
    "            count_letter = letter\n",
    "            count = 1\n",
    "    compressed_word += count_letter + str(count)\n",
    "    \n",
    "    # Return the shorter option — either original word or compressed string\n",
    "    if len(compressed_word) < len(word):\n",
    "        return compressed_word\n",
    "    else:\n",
    "        return word"
   ]
  },
  {
   "cell_type": "markdown",
   "metadata": {},
   "source": [
    "### *BONUS* Challenge: FizzBuzz\n",
    "Write a program that prints all of the numbers from 1 to 100. For multiples of 3, instead of the number, print \"Fizz;\" for multiples of 5, print \"Buzz.\" For numbers that are multiples of both 3 and 5, print \"FizzBuzz.\" Afterward, write a brief explanation walking through your code's logic in markdown."
   ]
  },
  {
   "cell_type": "code",
   "execution_count": 2,
   "metadata": {},
   "outputs": [
    {
     "name": "stdout",
     "output_type": "stream",
     "text": [
      "Fizz 3\n",
      "Buzz 5\n",
      "Fizz 6\n",
      "Fizz 9\n",
      "Buzz 10\n",
      "Fizz 12\n",
      "FizzBuzz 15\n",
      "Fizz 18\n",
      "Buzz 20\n",
      "Fizz 21\n",
      "Fizz 24\n",
      "Buzz 25\n",
      "Fizz 27\n",
      "FizzBuzz 30\n",
      "Fizz 33\n",
      "Buzz 35\n",
      "Fizz 36\n",
      "Fizz 39\n",
      "Buzz 40\n",
      "Fizz 42\n",
      "FizzBuzz 45\n",
      "Fizz 48\n",
      "Buzz 50\n",
      "Fizz 51\n",
      "Fizz 54\n",
      "Buzz 55\n",
      "Fizz 57\n",
      "FizzBuzz 60\n",
      "Fizz 63\n",
      "Buzz 65\n",
      "Fizz 66\n",
      "Fizz 69\n",
      "Buzz 70\n",
      "Fizz 72\n",
      "FizzBuzz 75\n",
      "Fizz 78\n",
      "Buzz 80\n",
      "Fizz 81\n",
      "Fizz 84\n",
      "Buzz 85\n",
      "Fizz 87\n",
      "FizzBuzz 90\n",
      "Fizz 93\n",
      "Buzz 95\n",
      "Fizz 96\n",
      "Fizz 99\n"
     ]
    }
   ],
   "source": [
    "for x in range(1,100):\n",
    "    if x%3 == 0 and x%5 == 0:\n",
    "        print(\"FizzBuzz\",x)\n",
    "    elif x%5 == 0:\n",
    "        print(\"Buzz\",x)\n",
    "    elif x%3 == 0:\n",
    "        print(\"Fizz\",x)"
   ]
  },
  {
   "cell_type": "code",
   "execution_count": null,
   "metadata": {},
   "outputs": [],
   "source": []
  }
 ],
 "metadata": {
  "anaconda-cloud": {},
  "kernelspec": {
   "display_name": "Python 3",
   "language": "python",
   "name": "python3"
  },
  "language_info": {
   "codemirror_mode": {
    "name": "ipython",
    "version": 3
   },
   "file_extension": ".py",
   "mimetype": "text/x-python",
   "name": "python",
   "nbconvert_exporter": "python",
   "pygments_lexer": "ipython3",
   "version": "3.6.8"
  }
 },
 "nbformat": 4,
 "nbformat_minor": 4
}
